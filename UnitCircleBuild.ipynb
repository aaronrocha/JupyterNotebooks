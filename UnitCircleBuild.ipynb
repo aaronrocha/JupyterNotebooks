{
 "cells": [
  {
   "cell_type": "code",
   "execution_count": 15,
   "metadata": {},
   "outputs": [],
   "source": [
    "from sympy import *\n",
    "init_printing()"
   ]
  },
  {
   "cell_type": "code",
   "execution_count": 16,
   "metadata": {},
   "outputs": [],
   "source": [
    "x = symbols('x')"
   ]
  },
  {
   "cell_type": "code",
   "execution_count": 17,
   "metadata": {},
   "outputs": [
    {
     "data": {
      "image/png": "[encoded data removed]",
      "text/latex": [
       "$\\displaystyle \\left[ 0, \\  \\frac{\\pi}{6}, \\  \\frac{\\pi}{4}, \\  \\frac{\\pi}{3}, \\  \\frac{\\pi}{2}, \\  \\frac{2 \\pi}{3}, \\  \\frac{3 \\pi}{4}, \\  \\frac{5 \\pi}{6}, \\  \\pi, \\  \\frac{7 \\pi}{6}, \\  \\frac{5 \\pi}{4}, \\  \\frac{4 \\pi}{3}, \\  \\frac{3 \\pi}{2}, \\  \\frac{5 \\pi}{3}, \\  \\frac{7 \\pi}{4}, \\  \\frac{11 \\pi}{6}\\right]$"
      ],
      "text/plain": [
       "⎡   π  π  π  π  2⋅π  3⋅π  5⋅π     7⋅π  5⋅π  4⋅π  3⋅π  5⋅π  7⋅π  11⋅π⎤\n",
       "⎢0, ─, ─, ─, ─, ───, ───, ───, π, ───, ───, ───, ───, ───, ───, ────⎥\n",
       "⎣   6  4  3  2   3    4    6       6    4    3    2    3    4    6  ⎦"
      ]
     },
     "execution_count": 17,
     "metadata": {},
     "output_type": "execute_result"
    }
   ],
   "source": [
    "points = []\n",
    "radianvalues = [0,\n",
    "    pi * Rational(1,6),\n",
    "    pi * Rational(1,4),\n",
    "    pi * Rational(2,6),\n",
    "    pi * Rational(3,6),\n",
    "    pi * Rational(4, 6),\n",
    "    pi * Rational(3,4),\n",
    "    pi * Rational(5,6),\n",
    "    pi * Rational(6,6),\n",
    "    pi * Rational(7,6),\n",
    "    pi * Rational(5,4),\n",
    "    pi * Rational(8,6),\n",
    "    pi * Rational(9,6),\n",
    "    pi * Rational(10,6),\n",
    "    pi * Rational(7,4),\n",
    "    pi * Rational(11,6)\n",
    "    ]\n",
    "radianvalues"
   ]
  },
  {
   "cell_type": "code",
   "execution_count": 18,
   "metadata": {},
   "outputs": [
    {
     "data": {
      "text/plain": [
       "list"
      ]
     },
     "execution_count": 18,
     "metadata": {},
     "output_type": "execute_result"
    }
   ],
   "source": [
    "type(radianvalues)"
   ]
  },
  {
   "cell_type": "code",
   "execution_count": 19,
   "metadata": {},
   "outputs": [
    {
     "data": {
      "image/png": "[encoded data removed]",
      "text/latex": [
       "$\\displaystyle Point2D\\left(1, 0\\right)$"
      ],
      "text/plain": [
       "Point2D(1, 0)"
      ]
     },
     "execution_count": 19,
     "metadata": {},
     "output_type": "execute_result"
    }
   ],
   "source": [
    "Point(cos(radianvalues[0]), sin(radianvalues[0]))"
   ]
  },
  {
   "cell_type": "code",
   "execution_count": 32,
   "metadata": {},
   "outputs": [],
   "source": [
    "mypoints = [Point(cos(a), sin(a)) for a in radianvalues]\n",
    "mysinvals = [sin(a) for a in radianvalues]\n",
    "mycosvals = [cos(a) for a in radianvalues]"
   ]
  },
  {
   "cell_type": "code",
   "execution_count": 21,
   "metadata": {},
   "outputs": [
    {
     "data": {
      "image/png": "[encoded data removed]",
      "text/latex": [
       "$\\displaystyle \\left[ Point2D\\left(1, 0\\right), \\  Point2D\\left(\\frac{\\sqrt{3}}{2}, \\frac{1}{2}\\right), \\  Point2D\\left(\\frac{\\sqrt{2}}{2}, \\frac{\\sqrt{2}}{2}\\right), \\  Point2D\\left(\\frac{1}{2}, \\frac{\\sqrt{3}}{2}\\right), \\  Point2D\\left(0, 1\\right), \\  Point2D\\left(- \\frac{1}{2}, \\frac{\\sqrt{3}}{2}\\right), \\  Point2D\\left(- \\frac{\\sqrt{2}}{2}, \\frac{\\sqrt{2}}{2}\\right), \\  Point2D\\left(- \\frac{\\sqrt{3}}{2}, \\frac{1}{2}\\right), \\  Point2D\\left(-1, 0\\right), \\  Point2D\\left(- \\frac{\\sqrt{3}}{2}, - \\frac{1}{2}\\right), \\  Point2D\\left(- \\frac{\\sqrt{2}}{2}, - \\frac{\\sqrt{2}}{2}\\right), \\  Point2D\\left(- \\frac{1}{2}, - \\frac{\\sqrt{3}}{2}\\right), \\  Point2D\\left(0, -1\\right), \\  Point2D\\left(\\frac{1}{2}, - \\frac{\\sqrt{3}}{2}\\right), \\  Point2D\\left(\\frac{\\sqrt{2}}{2}, - \\frac{\\sqrt{2}}{2}\\right), \\  Point2D\\left(\\frac{\\sqrt{3}}{2}, - \\frac{1}{2}\\right)\\right]$"
      ],
      "text/plain": [
       "[Point2D(1, 0), Point2D(sqrt(3)/2, 1/2), Point2D(sqrt(2)/2, sqrt(2)/2), Point2\n",
       "D(1/2, sqrt(3)/2), Point2D(0, 1), Point2D(-1/2, sqrt(3)/2), Point2D(-sqrt(2)/2\n",
       ", sqrt(2)/2), Point2D(-sqrt(3)/2, 1/2), Point2D(-1, 0), Point2D(-sqrt(3)/2, -1\n",
       "/2), Point2D(-sqrt(2)/2, -sqrt(2)/2), Point2D(-1/2, -sqrt(3)/2), Point2D(0, -1\n",
       "), Point2D(1/2, -sqrt(3)/2), Point2D(sqrt(2)/2, -sqrt(2)/2), Point2D(sqrt(3)/2\n",
       ", -1/2)]"
      ]
     },
     "execution_count": 21,
     "metadata": {},
     "output_type": "execute_result"
    }
   ],
   "source": [
    "mypoints"
   ]
  },
  {
   "cell_type": "code",
   "execution_count": 33,
   "metadata": {},
   "outputs": [
    {
     "data": {
      "image/png": "[encoded data removed]",
      "text/latex": [
       "$\\displaystyle \\left[ 0, \\  \\frac{1}{2}, \\  \\frac{\\sqrt{2}}{2}, \\  \\frac{\\sqrt{3}}{2}, \\  1, \\  \\frac{\\sqrt{3}}{2}, \\  \\frac{\\sqrt{2}}{2}, \\  \\frac{1}{2}, \\  0, \\  - \\frac{1}{2}, \\  - \\frac{\\sqrt{2}}{2}, \\  - \\frac{\\sqrt{3}}{2}, \\  -1, \\  - \\frac{\\sqrt{3}}{2}, \\  - \\frac{\\sqrt{2}}{2}, \\  - \\frac{1}{2}\\right]$"
      ],
      "text/plain": [
       "⎡        √2  √3     √3  √2                -√2   -√3       -√3   -√2       ⎤\n",
       "⎢0, 1/2, ──, ──, 1, ──, ──, 1/2, 0, -1/2, ────, ────, -1, ────, ────, -1/2⎥\n",
       "⎣        2   2      2   2                  2     2         2     2        ⎦"
      ]
     },
     "execution_count": 33,
     "metadata": {},
     "output_type": "execute_result"
    }
   ],
   "source": [
    "mysinvals"
   ]
  },
  {
   "cell_type": "code",
   "execution_count": 34,
   "metadata": {},
   "outputs": [
    {
     "data": {
      "image/png": "[encoded data removed]",
      "text/latex": [
       "$\\displaystyle \\left[ 1, \\  \\frac{\\sqrt{3}}{2}, \\  \\frac{\\sqrt{2}}{2}, \\  \\frac{1}{2}, \\  0, \\  - \\frac{1}{2}, \\  - \\frac{\\sqrt{2}}{2}, \\  - \\frac{\\sqrt{3}}{2}, \\  -1, \\  - \\frac{\\sqrt{3}}{2}, \\  - \\frac{\\sqrt{2}}{2}, \\  - \\frac{1}{2}, \\  0, \\  \\frac{1}{2}, \\  \\frac{\\sqrt{2}}{2}, \\  \\frac{\\sqrt{3}}{2}\\right]$"
      ],
      "text/plain": [
       "⎡   √3  √2                -√2   -√3       -√3   -√2                 √2  √3⎤\n",
       "⎢1, ──, ──, 1/2, 0, -1/2, ────, ────, -1, ────, ────, -1/2, 0, 1/2, ──, ──⎥\n",
       "⎣   2   2                  2     2         2     2                  2   2 ⎦"
      ]
     },
     "execution_count": 34,
     "metadata": {},
     "output_type": "execute_result"
    }
   ],
   "source": [
    "mycosvals"
   ]
  },
  {
   "cell_type": "code",
   "execution_count": 28,
   "metadata": {},
   "outputs": [],
   "source": [
    "from sympy.plotting import plot"
   ]
  },
  {
   "cell_type": "code",
   "execution_count": 31,
   "metadata": {},
   "outputs": [],
   "source": [
    "import matplotlib.pyplot as plt"
   ]
  },
  {
   "cell_type": "code",
   "execution_count": 36,
   "metadata": {},
   "outputs": [
    {
     "data": {
      "image/png": "[encoded data removed]",
      "text/plain": [
       "<Figure size 432x288 with 1 Axes>"
      ]
     },
     "metadata": {
      "needs_background": "light"
     },
     "output_type": "display_data"
    }
   ],
   "source": [
    "plt.plot(mycosvals, mysinvals, 'bo')\n",
    "\n",
    "\n",
    "plt.show()"
   ]
  },
  {
   "cell_type": "code",
   "execution_count": null,
   "metadata": {},
   "outputs": [],
   "source": []
  }
 ],
 "metadata": {
  "kernelspec": {
   "display_name": "Python 3",
   "language": "python",
   "name": "python3"
  },
  "language_info": {
   "codemirror_mode": {
    "name": "ipython",
    "version": 3
   },
   "file_extension": ".py",
   "mimetype": "text/x-python",
   "name": "python",
   "nbconvert_exporter": "python",
   "pygments_lexer": "ipython3",
   "version": "3.8.5"
  }
 },
 "nbformat": 4,
 "nbformat_minor": 4
}
