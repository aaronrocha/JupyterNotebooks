{
 "cells": [
  {
   "cell_type": "markdown",
   "metadata": {},
   "source": [
    "### Problem\n",
    "\n",
    "The number of shoes sold by an e-commerce company during the first three months(12 weeks) of the year were: \n",
    "23 21 19 24 35 17 18 24 33 27 21 23\n",
    "\n",
    "Meanwhile, the company dveloped some dynamic price optimiztion algorithms and the sales for the next 12 weeks were:\n",
    "31 28 19 24 32 27 16 41 23 32 29 33\n",
    "\n",
    "### Solution\n",
    "\n",
    "Before we get onto different approaches, let's quickly get a feel for the data."
   ]
  },
  {
   "cell_type": "code",
   "execution_count": 1,
   "metadata": {},
   "outputs": [],
   "source": [
    "import numpy as np\n",
    "import seaborn as sns\n",
    "sns.set(color_codes=True)\n"
   ]
  },
  {
   "cell_type": "code",
   "execution_count": 2,
   "metadata": {},
   "outputs": [],
   "source": [
    "#Load the data\n",
    "before_opt = np.array([23, 21, 19, 24,35, 17, 18, 24, 33, 27, 21, 23])\n",
    "after_opt = np.array([31, 28, 19, 24, 32, 27, 16, 41, 23, 32, 29, 33])"
   ]
  },
  {
   "cell_type": "code",
   "execution_count": 3,
   "metadata": {},
   "outputs": [
    {
     "data": {
      "text/plain": [
       "23.75"
      ]
     },
     "execution_count": 3,
     "metadata": {},
     "output_type": "execute_result"
    }
   ],
   "source": [
    "before_opt.mean()"
   ]
  },
  {
   "cell_type": "code",
   "execution_count": 4,
   "metadata": {},
   "outputs": [
    {
     "data": {
      "text/plain": [
       "27.916666666666668"
      ]
     },
     "execution_count": 4,
     "metadata": {},
     "output_type": "execute_result"
    }
   ],
   "source": [
    "after_opt.mean()"
   ]
  },
  {
   "cell_type": "code",
   "execution_count": 5,
   "metadata": {},
   "outputs": [],
   "source": [
    "observed_diff = Out[4] - Out[3]"
   ]
  },
  {
   "cell_type": "code",
   "execution_count": 6,
   "metadata": {},
   "outputs": [
    {
     "name": "stdout",
     "output_type": "stream",
     "text": [
      "Difference between the means is: 4.166666666666668\n"
     ]
    }
   ],
   "source": [
    "print(\"Difference between the means is:\", observed_diff)"
   ]
  },
  {
   "cell_type": "markdown",
   "metadata": {},
   "source": [
    "On average, the sales after optimization is more than the sales before optimization.  But is the difference legit?  Could it be due to chance?\n",
    "\n",
    "### Classical Method: \n",
    "We could cover this method later on.  This entails doing a t-test\n",
    "\n",
    "### Hacker's Method:\n",
    "Let's see if we can provide a hacker's perspective to this problem, similar to what we did in the previous example."
   ]
  },
  {
   "cell_type": "code",
   "execution_count": 12,
   "metadata": {},
   "outputs": [],
   "source": [
    "shoe_sales = np.array([np.append(np.zeros(before_opt.shape[0]), np.ones(after_opt.shape[0])), np.append(before_opt, after_opt)], dtype=int)"
   ]
  },
  {
   "cell_type": "code",
   "execution_count": 13,
   "metadata": {},
   "outputs": [
    {
     "name": "stdout",
     "output_type": "stream",
     "text": [
      "Shape: (2, 24)\n",
      "Data: \n",
      " [[ 0  0  0  0  0  0  0  0  0  0  0  0  1  1  1  1  1  1  1  1  1  1  1  1]\n",
      " [23 21 19 24 35 17 18 24 33 27 21 23 31 28 19 24 32 27 16 41 23 32 29 33]]\n"
     ]
    }
   ],
   "source": [
    "print(\"Shape:\", shoe_sales.shape)\n",
    "print(\"Data:\", \"\\n\", shoe_sales)"
   ]
  },
  {
   "cell_type": "code",
   "execution_count": 17,
   "metadata": {},
   "outputs": [
    {
     "name": "stdout",
     "output_type": "stream",
     "text": [
      "Shape: (24, 2)\n",
      "Data: \n",
      " [[ 0 23]\n",
      " [ 0 21]\n",
      " [ 0 19]\n",
      " [ 0 24]\n",
      " [ 0 35]\n",
      " [ 0 17]\n",
      " [ 0 18]\n",
      " [ 0 24]\n",
      " [ 0 33]\n",
      " [ 0 27]\n",
      " [ 0 21]\n",
      " [ 0 23]\n",
      " [ 1 31]\n",
      " [ 1 28]\n",
      " [ 1 19]\n",
      " [ 1 24]\n",
      " [ 1 32]\n",
      " [ 1 27]\n",
      " [ 1 16]\n",
      " [ 1 41]\n",
      " [ 1 23]\n",
      " [ 1 32]\n",
      " [ 1 29]\n",
      " [ 1 33]]\n"
     ]
    }
   ],
   "source": [
    "shoe_sales = shoe_sales.T\n",
    "print(\"Shape:\", shoe_sales.shape)\n",
    "print(\"Data:\", \"\\n\", shoe_sales)"
   ]
  },
  {
   "cell_type": "markdown",
   "metadata": {},
   "source": [
    "This is the approach we are going to take\n",
    "We are going to randomly shuffle the labels.  Then compute the mean between the two groups.  \n",
    "Find the percentage of times when the difference between the mans computed is greater than what we observed above\n",
    "If the percentage of times is less than 5%, we would make the call the impovements are real"
   ]
  },
  {
   "cell_type": "code",
   "execution_count": 18,
   "metadata": {},
   "outputs": [
    {
     "data": {
      "text/plain": [
       "array([[ 0, 23],\n",
       "       [ 1, 41],\n",
       "       [ 1, 29],\n",
       "       [ 0, 21],\n",
       "       [ 1, 28],\n",
       "       [ 0, 23],\n",
       "       [ 1, 19],\n",
       "       [ 1, 16],\n",
       "       [ 0, 35],\n",
       "       [ 1, 33],\n",
       "       [ 1, 31],\n",
       "       [ 1, 27],\n",
       "       [ 0, 33],\n",
       "       [ 0, 17],\n",
       "       [ 0, 21],\n",
       "       [ 1, 23],\n",
       "       [ 0, 24],\n",
       "       [ 0, 19],\n",
       "       [ 1, 24],\n",
       "       [ 0, 27],\n",
       "       [ 1, 32],\n",
       "       [ 0, 24],\n",
       "       [ 1, 32],\n",
       "       [ 0, 18]])"
      ]
     },
     "execution_count": 18,
     "metadata": {},
     "output_type": "execute_result"
    }
   ],
   "source": [
    "np.random.shuffle(shoe_sales)\n",
    "shoe_sales"
   ]
  },
  {
   "cell_type": "code",
   "execution_count": 19,
   "metadata": {},
   "outputs": [
    {
     "data": {
      "text/plain": [
       "array([0, 0, 1, 0, 1, 0, 1, 0, 0, 1, 0, 0, 0, 1, 1, 1, 1, 0, 1, 0, 1, 1,\n",
       "       1, 1])"
      ]
     },
     "execution_count": 19,
     "metadata": {},
     "output_type": "execute_result"
    }
   ],
   "source": [
    "experiment_label = np.random.randint(0, 2, shoe_sales.shape[0])\n",
    "experiment_label"
   ]
  },
  {
   "cell_type": "code",
   "execution_count": 20,
   "metadata": {},
   "outputs": [
    {
     "name": "stdout",
     "output_type": "stream",
     "text": [
      "[[ 0 23]\n",
      " [ 0 41]\n",
      " [ 1 29]\n",
      " [ 0 21]\n",
      " [ 1 28]\n",
      " [ 0 23]\n",
      " [ 1 19]\n",
      " [ 0 16]\n",
      " [ 0 35]\n",
      " [ 1 33]\n",
      " [ 0 31]\n",
      " [ 0 27]\n",
      " [ 0 33]\n",
      " [ 1 17]\n",
      " [ 1 21]\n",
      " [ 1 23]\n",
      " [ 1 24]\n",
      " [ 0 19]\n",
      " [ 1 24]\n",
      " [ 0 27]\n",
      " [ 1 32]\n",
      " [ 1 24]\n",
      " [ 1 32]\n",
      " [ 1 18]]\n"
     ]
    }
   ],
   "source": [
    "experiment_data = np.array([experiment_label, shoe_sales[:,1]])\n",
    "experiment_data = experiment_data.T\n",
    "print(experiment_data)"
   ]
  },
  {
   "cell_type": "code",
   "execution_count": 28,
   "metadata": {},
   "outputs": [],
   "source": [
    "experiment_diff_mean = experiment_data[experiment_data[:,0]==1].mean() - experiment_data[experiment_data[:,0]==0].mean()"
   ]
  },
  {
   "cell_type": "code",
   "execution_count": 29,
   "metadata": {},
   "outputs": [
    {
     "data": {
      "text/plain": [
       "-0.49300699300699335"
      ]
     },
     "execution_count": 29,
     "metadata": {},
     "output_type": "execute_result"
    }
   ],
   "source": [
    "experiment_diff_mean"
   ]
  },
  {
   "cell_type": "markdown",
   "metadata": {},
   "source": [
    "## Like the previous example, let's repeat this experiment 100 and then 100,000 times"
   ]
  },
  {
   "cell_type": "code",
   "execution_count": 38,
   "metadata": {},
   "outputs": [],
   "source": [
    "def shuffle_experiment(number_of_times):\n",
    "    experiment_diff_mean = np.empty([number_of_times, 1])\n",
    "    for times in np.arange(number_of_times):\n",
    "        experiment_label = np.random.randint(0, 2, shoe_sales.shape[0])\n",
    "        experiment_data = np.array([experiment_label, shoe_sales[:,1]]).T\n",
    "        experiment_diff_mean[times] = experiment_data[experiment_data[:,0]==1].mean() - experiment_data[experiment_data[:,0]==0].mean() \n",
    "    return experiment_diff_mean"
   ]
  },
  {
   "cell_type": "code",
   "execution_count": 44,
   "metadata": {},
   "outputs": [],
   "source": [
    "experiment_diff_mean = shuffle_experiment(100000)"
   ]
  },
  {
   "cell_type": "code",
   "execution_count": 45,
   "metadata": {},
   "outputs": [
    {
     "data": {
      "text/plain": [
       "array([[ 1.04285714],\n",
       "       [ 2.15714286],\n",
       "       [-0.15734266],\n",
       "       [-0.85664336],\n",
       "       [ 0.9       ],\n",
       "       [ 0.27777778],\n",
       "       [-0.3       ],\n",
       "       [ 1.43333333],\n",
       "       [-1.32222222],\n",
       "       [ 1.84285714]])"
      ]
     },
     "execution_count": 45,
     "metadata": {},
     "output_type": "execute_result"
    }
   ],
   "source": [
    "experiment_diff_mean[:10]"
   ]
  },
  {
   "cell_type": "code",
   "execution_count": 46,
   "metadata": {},
   "outputs": [
    {
     "data": {
      "text/plain": [
       "<seaborn.axisgrid.FacetGrid at 0x122890520>"
      ]
     },
     "execution_count": 46,
     "metadata": {},
     "output_type": "execute_result"
    },
    {
     "data": {
      "image/png": "[encoded data removed]",
      "text/plain": [
       "<Figure size 405.725x360 with 1 Axes>"
      ]
     },
     "metadata": {},
     "output_type": "display_data"
    }
   ],
   "source": [
    "sns.displot(experiment_diff_mean, kde=True)"
   ]
  },
  {
   "cell_type": "code",
   "execution_count": null,
   "metadata": {},
   "outputs": [],
   "source": []
  }
 ],
 "metadata": {
  "kernelspec": {
   "display_name": "Python 3",
   "language": "python",
   "name": "python3"
  },
  "language_info": {
   "codemirror_mode": {
    "name": "ipython",
    "version": 3
   },
   "file_extension": ".py",
   "mimetype": "text/x-python",
   "name": "python",
   "nbconvert_exporter": "python",
   "pygments_lexer": "ipython3",
   "version": "3.8.5"
  }
 },
 "nbformat": 4,
 "nbformat_minor": 4
}
