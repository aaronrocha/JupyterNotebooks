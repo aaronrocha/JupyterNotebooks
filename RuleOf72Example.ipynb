{
 "cells": [
  {
   "cell_type": "code",
   "execution_count": 1,
   "id": "latest-candidate",
   "metadata": {},
   "outputs": [],
   "source": [
    "import math"
   ]
  },
  {
   "cell_type": "code",
   "execution_count": 2,
   "id": "incident-world",
   "metadata": {},
   "outputs": [
    {
     "data": {
      "text/plain": [
       "16"
      ]
     },
     "execution_count": 2,
     "metadata": {},
     "output_type": "execute_result"
    }
   ],
   "source": [
    "pow(2, 4)"
   ]
  },
  {
   "cell_type": "code",
   "execution_count": 3,
   "id": "retired-workstation",
   "metadata": {},
   "outputs": [],
   "source": [
    "def doubler(amt, periods):\n",
    "    return amt * pow(2, periods)"
   ]
  },
  {
   "cell_type": "code",
   "execution_count": 4,
   "id": "driving-multiple",
   "metadata": {},
   "outputs": [
    {
     "data": {
      "text/plain": [
       "10737418.24"
      ]
     },
     "execution_count": 4,
     "metadata": {},
     "output_type": "execute_result"
    }
   ],
   "source": [
    "# A penny doubled for 30 days is more than 10 million!\n",
    "doubler(0.01, 30)"
   ]
  },
  {
   "cell_type": "code",
   "execution_count": 5,
   "id": "naughty-reach",
   "metadata": {},
   "outputs": [
    {
     "data": {
      "text/plain": [
       "40000"
      ]
     },
     "execution_count": 5,
     "metadata": {},
     "output_type": "execute_result"
    }
   ],
   "source": [
    "# A $10k invested in 3%, 6% and 12%\n",
    "# According to the rule of 72, an investment doubles in 72/3 = 24 years\n",
    "# So our investment would take 48 years to double twice.\n",
    "doubler(10_000, 2)"
   ]
  },
  {
   "cell_type": "code",
   "execution_count": null,
   "id": "tested-trinity",
   "metadata": {},
   "outputs": [],
   "source": [
    "# Let's double the rate to 6%\n",
    "# 72/6 = 12, Now it "
   ]
  }
 ],
 "metadata": {
  "kernelspec": {
   "display_name": "Python 3",
   "language": "python",
   "name": "python3"
  },
  "language_info": {
   "codemirror_mode": {
    "name": "ipython",
    "version": 3
   },
   "file_extension": ".py",
   "mimetype": "text/x-python",
   "name": "python",
   "nbconvert_exporter": "python",
   "pygments_lexer": "ipython3",
   "version": "3.9.2"
  }
 },
 "nbformat": 4,
 "nbformat_minor": 5
}
