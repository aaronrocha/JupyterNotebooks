{
 "cells": [
  {
   "cell_type": "code",
   "execution_count": 1,
   "id": "handmade-japan",
   "metadata": {},
   "outputs": [],
   "source": [
    "from sympy import *"
   ]
  },
  {
   "cell_type": "code",
   "execution_count": 2,
   "id": "potential-barrel",
   "metadata": {},
   "outputs": [],
   "source": [
    "x = symbols('x')\n",
    "p1 = x**2 + 2*x -5"
   ]
  },
  {
   "cell_type": "code",
   "execution_count": 3,
   "id": "competitive-essence",
   "metadata": {},
   "outputs": [
    {
     "data": {
      "text/latex": [
       "$\\displaystyle x^{2} + 2 x - 5$"
      ],
      "text/plain": [
       "x**2 + 2*x - 5"
      ]
     },
     "execution_count": 3,
     "metadata": {},
     "output_type": "execute_result"
    }
   ],
   "source": [
    "p1"
   ]
  },
  {
   "cell_type": "code",
   "execution_count": 4,
   "id": "gorgeous-tunnel",
   "metadata": {},
   "outputs": [
    {
     "name": "stdout",
     "output_type": "stream",
     "text": [
      "    120 |                                                       \n",
      "        |                                                      /\n",
      "        |                                                     / \n",
      "        |                                                    /  \n",
      "        |                                                   /   \n",
      "        |                                                  .    \n",
      "        |                                                       \n",
      "        |\\                                                .     \n",
      "        | \\                                              /      \n",
      "        |  \\                                           ..       \n",
      "     55 |---\\-----------------------------------------/---------\n",
      "        |    \\                                       /          \n",
      "        |     ..                                    /           \n",
      "        |       \\                                 ..            \n",
      "        |        ..                              /              \n",
      "        |          \\                           ..               \n",
      "        |           ..                       ..                 \n",
      "        |             ..                   ..                   \n",
      "        |               ...             ...                     \n",
      "        |                  .............                        \n",
      "    -10 |_______________________________________________________\n",
      "         -10                        0                          10\n"
     ]
    },
    {
     "data": {
      "text/plain": [
       "<sympy.plotting.plot.Plot at 0x7feed814bcd0>"
      ]
     },
     "execution_count": 4,
     "metadata": {},
     "output_type": "execute_result"
    }
   ],
   "source": [
    "plot(p1)"
   ]
  },
  {
   "cell_type": "code",
   "execution_count": 5,
   "id": "reasonable-integrity",
   "metadata": {},
   "outputs": [
    {
     "data": {
      "text/latex": [
       "$\\displaystyle \\left\\{-1 + \\sqrt{6}, - \\sqrt{6} - 1\\right\\}$"
      ],
      "text/plain": [
       "FiniteSet(-1 + sqrt(6), -sqrt(6) - 1)"
      ]
     },
     "execution_count": 5,
     "metadata": {},
     "output_type": "execute_result"
    }
   ],
   "source": [
    "solveset(Eq(p1, 0), x)"
   ]
  },
  {
   "cell_type": "code",
   "execution_count": 6,
   "id": "desperate-beijing",
   "metadata": {},
   "outputs": [
    {
     "data": {
      "text/latex": [
       "$\\displaystyle \\left\\{-3.44948974278318, 1.44948974278318\\right\\}$"
      ],
      "text/plain": [
       "FiniteSet(-3.44948974278318, 1.44948974278318)"
      ]
     },
     "execution_count": 6,
     "metadata": {},
     "output_type": "execute_result"
    }
   ],
   "source": [
    "N(_)"
   ]
  },
  {
   "cell_type": "code",
   "execution_count": null,
   "id": "accurate-flexibility",
   "metadata": {},
   "outputs": [],
   "source": []
  }
 ],
 "metadata": {
  "kernelspec": {
   "display_name": "Python 3",
   "language": "python",
   "name": "python3"
  },
  "language_info": {
   "codemirror_mode": {
    "name": "ipython",
    "version": 3
   },
   "file_extension": ".py",
   "mimetype": "text/x-python",
   "name": "python",
   "nbconvert_exporter": "python",
   "pygments_lexer": "ipython3",
   "version": "3.9.2"
  }
 },
 "nbformat": 4,
 "nbformat_minor": 5
}
